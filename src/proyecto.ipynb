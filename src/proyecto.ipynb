{
 "cells": [
  {
   "cell_type": "code",
   "execution_count": 3,
   "metadata": {},
   "outputs": [],
   "source": [
    "from Bio import Entrez, SeqIO,SearchIO"
   ]
  },
  {
   "cell_type": "code",
   "execution_count": 1,
   "metadata": {},
   "outputs": [],
   "source": [
    "tema = 'cancer'"
   ]
  },
  {
   "cell_type": "code",
   "execution_count": 6,
   "metadata": {},
   "outputs": [],
   "source": [
    "prot = SeqIO.read('../data/unknownProtein2.fasta', \"fasta\")"
   ]
  },
  {
   "cell_type": "code",
   "execution_count": 7,
   "metadata": {},
   "outputs": [
    {
     "name": "stdout",
     "output_type": "stream",
     "text": [
      "MNFRGHALPGTFFFIIGLWWCTKSILKYICKKQKRTCYLGSKTLFYRLEILEGITIVGMALTGMAGEQFIPGGPHLMLYDYKQGHWNQLLGWHHFTMYFFFGLLGVADILCFTISSLPVSLTKLMLSNALFVEAFIFYNHTHGREMLDIFVHQLLVLVVFLTGLVAFLEFLVRNNVLLELLRSSLILLQGSWFFQIGFVLYPPSGGPAWDLMDHENILFLTICFCWHYAVTIVIVGMNYAFITWLVKSRLKRLCSSEVGLLKNAEREQESEEEMAENLYFQ\n"
     ]
    }
   ],
   "source": [
    "print(prot.seq)"
   ]
  },
  {
   "cell_type": "code",
   "execution_count": 9,
   "metadata": {},
   "outputs": [],
   "source": [
    "from Bio.Blast import NCBIWWW,NCBIXML\n",
    "result = NCBIWWW.qblast(\"blastp\", \"pdb\", prot.seq, hitlist_size=1)"
   ]
  },
  {
   "cell_type": "code",
   "execution_count": 10,
   "metadata": {},
   "outputs": [],
   "source": [
    "blast_records = SearchIO.read(result, 'blast-xml')"
   ]
  },
  {
   "cell_type": "code",
   "execution_count": 12,
   "metadata": {},
   "outputs": [],
   "source": [
    "protname = blast_records[0].description"
   ]
  },
  {
   "cell_type": "code",
   "execution_count": null,
   "metadata": {},
   "outputs": [],
   "source": [
    "protname = protname.split(',')[1]\n",
    "protname = protname.split('[')[0]"
   ]
  },
  {
   "cell_type": "code",
   "execution_count": null,
   "metadata": {},
   "outputs": [],
   "source": []
  }
 ],
 "metadata": {
  "kernelspec": {
   "display_name": "Python 3.10.8 64-bit (microsoft store)",
   "language": "python",
   "name": "python3"
  },
  "language_info": {
   "codemirror_mode": {
    "name": "ipython",
    "version": 3
   },
   "file_extension": ".py",
   "mimetype": "text/x-python",
   "name": "python",
   "nbconvert_exporter": "python",
   "pygments_lexer": "ipython3",
   "version": "3.10.8"
  },
  "orig_nbformat": 4,
  "vscode": {
   "interpreter": {
    "hash": "7a68845eec9ea836faed8a7face7f1dab24588dc0bcc64d462ec00029e9d8638"
   }
  }
 },
 "nbformat": 4,
 "nbformat_minor": 2
}
